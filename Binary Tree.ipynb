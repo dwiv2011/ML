{
 "cells": [
  {
   "cell_type": "markdown",
   "metadata": {},
   "source": [
    "# Name : Deepak Dwivedi\n",
    "# ID: 11920001\n",
    "## Question 5"
   ]
  },
  {
   "cell_type": "code",
   "execution_count": 82,
   "metadata": {},
   "outputs": [],
   "source": [
    "import pandas as pd\n",
    "import itertools\n",
    "import os \n",
    "import numpy as np\n",
    "from sklearn.model_selection import train_test_split\n",
    "from sklearn.preprocessing import StandardScaler\n",
    "pd.set_option('display.max_columns', None,\"display.max_rows\", None)\n",
    "import matplotlib.pyplot as plt\n",
    "import string\n",
    "from sklearn.linear_model import LinearRegression\n",
    "import seaborn as sns"
   ]
  },
  {
   "cell_type": "code",
   "execution_count": 86,
   "metadata": {},
   "outputs": [],
   "source": [
    "import time\n",
    "import math\n",
    "import numpy as np\n",
    "\n",
    "N = 10000\n",
    "\n",
    "\n",
    "def mexhat_py(t, sigma=1):\n",
    "    \"\"\"Computes Mexican hat shape, see\n",
    "    http://en.wikipedia.org/wiki/Mexican_hat_wavelet for\n",
    "    equation (13 Dec 2011)\"\"\"\n",
    "    c = 2. / math.sqrt(3 * sigma) * math.pi ** 0.25\n",
    "    return c * (1 - t ** 2 / sigma ** 2) * \\\n",
    "        math.exp(-t ** 2 / (2 * sigma ** 2))\n",
    "\n",
    "\n",
    "def mexhat_np(t, sigma=1):\n",
    "    \"\"\"Computes Mexican hat shape using numpy, see\n",
    "    http://en.wikipedia.org/wiki/Mexican_hat_wavelet for\n",
    "    equation (13 Dec 2011)\"\"\"\n",
    "    c = 2. / math.sqrt(3 * sigma) * math.pi ** 0.25\n",
    "    return c * (1 - t ** 2 / sigma ** 2) * \\\n",
    "        np.exp(-t ** 2 / (2 * sigma ** 2))\n",
    "\n",
    "\n",
    "def test_is_really_the_same():\n",
    "    \"\"\"Checking whether mexhat_np and mexhat_py produce\n",
    "    the same results.\"\"\"\n",
    "    xs1, ys1 = loop1()\n",
    "    xs2, ys2 = loop2()\n",
    "    deviation = math.sqrt(sum((ys1 - ys2) ** 2))\n",
    "    print(\"error:\", deviation)\n",
    "    assert deviation < 4e-15\n",
    "\n",
    "\n",
    "def loop1():\n",
    "    \"\"\"Compute arrays xs and ys with mexican hat function\n",
    "    in ys(xs), returns tuple (xs,ys)\"\"\"\n",
    "    xs = np.linspace(-10, 10, N)\n",
    "    ys = []\n",
    "    for x in xs:\n",
    "        ys.append(mexhat_py(x))\n",
    "    return xs, ys\n",
    "\n",
    "xs,ys=loop1()"
   ]
  },
  {
   "cell_type": "code",
   "execution_count": 87,
   "metadata": {},
   "outputs": [
    {
     "data": {
      "image/png": "[encoded data removed]",
      "text/plain": [
       "<Figure size 432x288 with 1 Axes>"
      ]
     },
     "metadata": {
      "needs_background": "light"
     },
     "output_type": "display_data"
    }
   ],
   "source": [
    "plt.scatter(xs,ys)\n",
    "plt.xlabel(\"x data\")\n",
    "plt.ylabel(\"y data\")\n",
    "plt.show()"
   ]
  },
  {
   "cell_type": "code",
   "execution_count": 89,
   "metadata": {
    "scrolled": true
   },
   "outputs": [],
   "source": [
    "xy_dataset=pd.DataFrame(zip(xs,ys),columns=[\"x\",\"y\"])\n"
   ]
  },
  {
   "cell_type": "markdown",
   "metadata": {},
   "source": [
    "# creating optimizer"
   ]
  },
  {
   "cell_type": "code",
   "execution_count": 115,
   "metadata": {},
   "outputs": [],
   "source": [
    "def linear_optimizer(xy_dataset,max_value=5, min_value=-5,threeshold=10):\n",
    "    for i  in np.arange(min_value+.01,max_value,.05):\n",
    "        df_f=xy_dataset[(xy_dataset[\"x\"]>=min_value) & (xy_dataset[\"x\"]<=max_value)]\n",
    "        x=np.asarray(df_f.loc[:,\"x\"])\n",
    "        y=np.asarray(df_f.loc[:,\"y\"])\n",
    "        x_train=x[x >-i]\n",
    "        y_train=y[x >-i]\n",
    "        model = LinearRegression().fit(x_train.reshape(-1, 1), y_train.reshape(-1, 1))\n",
    "        y_pred=model.predict(x_train.reshape(-1, 1))\n",
    "        d=pd.DataFrame(zip(ys,np.array(y_pred).reshape(-1, )),columns=[\"Actual Y\",\"Predicted Y\"])\n",
    "        d['diff']=d[\"Actual Y\"]-d[\"Predicted Y\"]\n",
    "    #print(d['diff'].head())\n",
    "        left=d[d['diff'] >=0].reset_index().drop(columns=['index'])\n",
    "        right=d[d['diff'] < 0].reset_index().drop(columns=['index'])\n",
    "        rmse_left=np.sqrt((np.sum((left['diff'])**2))/left.shape[0])\n",
    "        rmse_right=np.sqrt((np.sum((right['diff'])**2))/right.shape[0])\n",
    "        total_RMSE=left.shape[0]*rmse_left+rmse_right*right.shape[0]\n",
    "        if total_RMSE <= threeshold:\n",
    "            print(\"optimum seperation value\",i)\n",
    "            print(\"RMSE value\",total_RMSE)\n",
    "            break;\n",
    "        \n",
    "        elif i==np.sum([max_value,-.05]):\n",
    "            print(\"did not meet threeshold value\")\n"
   ]
  },
  {
   "cell_type": "code",
   "execution_count": 116,
   "metadata": {},
   "outputs": [
    {
     "name": "stdout",
     "output_type": "stream",
     "text": [
      "optimum seperation value -4.490000000000002\n",
      "RMSE value 0.15025972967769238\n"
     ]
    },
    {
     "name": "stderr",
     "output_type": "stream",
     "text": [
      "D:\\Anaconda\\lib\\site-packages\\ipykernel_launcher.py:16: RuntimeWarning: invalid value encountered in double_scalars\n",
      "  app.launch_new_instance()\n",
      "D:\\Anaconda\\lib\\site-packages\\ipykernel_launcher.py:16: RuntimeWarning: invalid value encountered in double_scalars\n",
      "  app.launch_new_instance()\n",
      "D:\\Anaconda\\lib\\site-packages\\ipykernel_launcher.py:16: RuntimeWarning: invalid value encountered in double_scalars\n",
      "  app.launch_new_instance()\n",
      "D:\\Anaconda\\lib\\site-packages\\ipykernel_launcher.py:16: RuntimeWarning: invalid value encountered in double_scalars\n",
      "  app.launch_new_instance()\n",
      "D:\\Anaconda\\lib\\site-packages\\ipykernel_launcher.py:16: RuntimeWarning: invalid value encountered in double_scalars\n",
      "  app.launch_new_instance()\n",
      "D:\\Anaconda\\lib\\site-packages\\ipykernel_launcher.py:16: RuntimeWarning: invalid value encountered in double_scalars\n",
      "  app.launch_new_instance()\n",
      "D:\\Anaconda\\lib\\site-packages\\ipykernel_launcher.py:16: RuntimeWarning: invalid value encountered in double_scalars\n",
      "  app.launch_new_instance()\n",
      "D:\\Anaconda\\lib\\site-packages\\ipykernel_launcher.py:16: RuntimeWarning: invalid value encountered in double_scalars\n",
      "  app.launch_new_instance()\n",
      "D:\\Anaconda\\lib\\site-packages\\ipykernel_launcher.py:16: RuntimeWarning: invalid value encountered in double_scalars\n",
      "  app.launch_new_instance()\n",
      "D:\\Anaconda\\lib\\site-packages\\ipykernel_launcher.py:16: RuntimeWarning: invalid value encountered in double_scalars\n",
      "  app.launch_new_instance()\n"
     ]
    }
   ],
   "source": [
    "linear_optimizer(xy_dataset)\n",
    "\n"
   ]
  },
  {
   "cell_type": "markdown",
   "metadata": {},
   "source": [
    "# prediction on x sample"
   ]
  },
  {
   "cell_type": "code",
   "execution_count": 117,
   "metadata": {},
   "outputs": [],
   "source": [
    "y_pred=model.predict(x_train.reshape(-1, 1))"
   ]
  },
  {
   "cell_type": "code",
   "execution_count": null,
   "metadata": {},
   "outputs": [],
   "source": []
  }
 ],
 "metadata": {
  "kernelspec": {
   "display_name": "Python 3",
   "language": "python",
   "name": "python3"
  },
  "language_info": {
   "codemirror_mode": {
    "name": "ipython",
    "version": 3
   },
   "file_extension": ".py",
   "mimetype": "text/x-python",
   "name": "python",
   "nbconvert_exporter": "python",
   "pygments_lexer": "ipython3",
   "version": "3.7.4"
  }
 },
 "nbformat": 4,
 "nbformat_minor": 2
}
